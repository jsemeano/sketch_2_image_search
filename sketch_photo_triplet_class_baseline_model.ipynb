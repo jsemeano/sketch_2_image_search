{
  "cells": [
    {
      "cell_type": "markdown",
      "metadata": {
        "id": "a2db756c"
      },
      "source": [
        "## Load libraries"
      ],
      "id": "a2db756c"
    },
    {
      "cell_type": "code",
      "execution_count": null,
      "metadata": {
        "id": "c3e0e949"
      },
      "outputs": [],
      "source": [
        "import matplotlib.pyplot as plt\n",
        "import numpy as np\n",
        "import pandas as pd\n",
        "import os\n",
        "import random\n",
        "import tensorflow as tf\n",
        "import datetime\n",
        "from pathlib import Path\n",
        "from tensorflow.keras import applications\n",
        "from tensorflow.keras import layers\n",
        "\n",
        "from tensorflow.keras import losses\n",
        "from tensorflow.keras import optimizers\n",
        "from tensorflow.keras import metrics\n",
        "from tensorflow.keras import Model\n",
        "import imageio as iio\n",
        "\n",
        "from tensorflow.keras.models import Sequential\n",
        "from tensorflow.keras.layers import Dense, Flatten, Dropout\n",
        "\n",
        "from tensorflow.keras import callbacks\n",
        "\n",
        "from tensorflow.keras.applications.resnet50 import preprocess_input\n",
        "from tensorflow.keras.applications import ResNet50\n",
        "\n",
        "from tensorflow.keras.preprocessing.image import ImageDataGenerator\n",
        "\n",
        "from tensorflow.keras.callbacks import ModelCheckpoint, EarlyStopping\n",
        "from tensorflow.keras.optimizers.schedules import ExponentialDecay\n",
        "\n",
        "from tensorflow.keras.models import save_model, load_model\n",
        "\n",
        "import tensorflow as tf\n",
        "%load_ext tensorboard\n",
        "\n",
        "\n",
        "# # Clear any logs from previous runs\n",
        "# rm -rf ./logs/\n"
      ],
      "id": "c3e0e949"
    },
    {
      "cell_type": "code",
      "execution_count": null,
      "metadata": {
        "colab": {
          "base_uri": "https://localhost:8080/"
        },
        "id": "2fd52e63",
        "outputId": "ba6c94e1-9aa0-415c-ff77-12fb17b200aa"
      },
      "outputs": [
        {
          "output_type": "stream",
          "name": "stdout",
          "text": [
            "Mounted at /content/drive\n"
          ]
        }
      ],
      "source": [
        "# Mount GDrive\n",
        "from google.colab import drive\n",
        "drive.mount('/content/drive')"
      ],
      "id": "2fd52e63"
    },
    {
      "cell_type": "code",
      "execution_count": null,
      "metadata": {
        "id": "634ecfe2"
      },
      "outputs": [],
      "source": [
        "\n",
        "# os.chdir allows you to change directories, like cd in the Terminal\n",
        "os.chdir('/content/drive/MyDrive/Colab Notebooks/sketch-image-search')"
      ],
      "id": "634ecfe2"
    },
    {
      "cell_type": "code",
      "execution_count": null,
      "metadata": {
        "id": "4e708455"
      },
      "outputs": [],
      "source": [
        "# Clear any logs from previous runs\n",
        "!rm -rf ./logs/"
      ],
      "id": "4e708455"
    },
    {
      "cell_type": "code",
      "execution_count": null,
      "metadata": {
        "id": "1400d788"
      },
      "outputs": [],
      "source": [
        "# Fixed number of classes\n",
        "NUM_CLASSES = 125\n",
        "\n",
        "# Fixed number of channels\n",
        "CHANNELS = 3\n",
        "\n",
        "IMAGE_RESIZE = 224\n",
        "RESNET50_POOLING_AVERAGE = 'avg'\n",
        "DENSE_LAYER_ACTIVATION = 'softmax'\n",
        "OBJECTIVE_FUNCTION = 'categorical_crossentropy'\n",
        "\n",
        "# Common accuracy metric for all outputs, but can use different metrics for different output\n",
        "LOSS_METRICS = ['accuracy']\n",
        "\n",
        "# EARLY_STOP_PATIENCE must be < NUM_EPOCHS\n",
        "TOTAL_NUM_EPOCHS = 60000\n",
        "NUM_EPOCHS = 1  # 60000\n",
        "EARLY_STOP_PATIENCE = 20\n",
        "\n",
        "# These steps value should be proper FACTOR of no.-of-images in train & valid folders respectively\n",
        "# Training images processed in each step would be no.-of-train-images / STEPS_PER_EPOCH_TRAINING\n",
        "STEPS_PER_EPOCH_TRAINING = 1000#00\n",
        "STEPS_PER_EPOCH_VALIDATION = 1000#00\n",
        "\n",
        "# These steps value should be proper FACTOR of no.-of-images in train & valid folders respectively\n",
        "# NOTE that these BATCH* are for Keras ImageDataGenerator batching to fill epoch step input\n",
        "BATCH_SIZE_TRAINING = 68\n",
        "BATCH_SIZE_VALIDATION = 68\n",
        "\n",
        "# Using 1 to easily manage mapping between test_generator & prediction for submission preparation\n",
        "BATCH_SIZE_TESTING = 1\n",
        "\n",
        "# TRIPLET network with classification extension\n",
        "LEARNING_RATE = 10**(-5)\n",
        "WEIGHT_DECAY = 2*(10**(-3))\n",
        "\n",
        "MARGIN = 15\n",
        "C1 = 10\n",
        "C2 = 1\n",
        "\n"
      ],
      "id": "1400d788"
    },
    {
      "cell_type": "markdown",
      "metadata": {
        "id": "4e4a1a0e"
      },
      "source": [
        "## making the sets"
      ],
      "id": "4e4a1a0e"
    },
    {
      "cell_type": "markdown",
      "metadata": {
        "id": "5d04d94a"
      },
      "source": [
        "## create (A,P,N,) triplet tuples "
      ],
      "id": "5d04d94a"
    },
    {
      "cell_type": "code",
      "execution_count": null,
      "metadata": {
        "id": "372ed1ab"
      },
      "outputs": [],
      "source": [
        "# search through each sketch (A), pick the corresponding picture (P) and a different picture (N)"
      ],
      "id": "372ed1ab"
    },
    {
      "cell_type": "code",
      "execution_count": null,
      "metadata": {
        "id": "NIfYQOKhnxkS"
      },
      "outputs": [],
      "source": [
        "## DEFINE THE LOCATION OF SKETCHES AND PHOTOS \n",
        "\n",
        "sketch_dir =  'raw_data/sketch/sketchy/sketchy_full'\n",
        "photo_dir = 'raw_data/photo/tx_000100000000'"
      ],
      "id": "NIfYQOKhnxkS"
    },
    {
      "cell_type": "code",
      "execution_count": null,
      "metadata": {
        "id": "ff42b1ae"
      },
      "outputs": [],
      "source": [
        "cat_list_sketchy = os.listdir(sketch_dir)"
      ],
      "id": "ff42b1ae"
    },
    {
      "cell_type": "code",
      "execution_count": null,
      "metadata": {
        "id": "43dadb39"
      },
      "outputs": [],
      "source": [
        "## MATCH ONE Negative per Sketch\n",
        "\n",
        "A_list = []\n",
        "P_list = []\n",
        "N_list = []\n",
        "\n",
        "for cat in cat_list_sketchy:\n",
        "    \n",
        "    for sketch in os.listdir(os.path.join(sketch_dir,cat)):\n",
        "\n",
        "      if sketch[0] == 'n':    # needed to add this because I am taking the sketches from a folder that also has the TU (Joao)\n",
        "\n",
        "        photo = f'{sketch[:sketch.rfind(\"-\")]}.jpg'   \n",
        "\n",
        "        photo_list = os.listdir(os.path.join(photo_dir,cat))\n",
        "\n",
        "        photo_list.pop(os.listdir(os.path.join(photo_dir,cat)).index(photo))\n",
        "        photo_neg = random.choice(photo_list)\n",
        "                \n",
        "        A_list.append(os.path.join(sketch_dir,cat,sketch))        \n",
        "        P_list.append(os.path.join(photo_dir,cat,photo))\n",
        "        N_list.append(os.path.join(photo_dir,cat,photo_neg))\n",
        "   "
      ],
      "id": "43dadb39"
    },
    {
      "cell_type": "code",
      "execution_count": null,
      "metadata": {
        "colab": {
          "base_uri": "https://localhost:8080/",
          "height": 36
        },
        "id": "hoxrQMP7dcoU",
        "outputId": "cb0c22a5-d086-431c-95ca-9259db428752"
      },
      "outputs": [
        {
          "output_type": "execute_result",
          "data": {
            "text/plain": [
              "'raw_data/sketch/sketchy/sketchy_full/cabin/n02932400_4194-2.png'"
            ],
            "application/vnd.google.colaboratory.intrinsic+json": {
              "type": "string"
            }
          },
          "metadata": {},
          "execution_count": 15
        }
      ],
      "source": [
        "A_list[0]"
      ],
      "id": "hoxrQMP7dcoU"
    },
    {
      "cell_type": "code",
      "execution_count": null,
      "metadata": {
        "id": "e2301d6a"
      },
      "outputs": [],
      "source": [
        "#@title Default title text\n",
        "## create datasets\n",
        "\n",
        "anchor_dataset_1 = tf.data.Dataset.from_tensor_slices(A_list)\n",
        "positive_dataset_1 = tf.data.Dataset.from_tensor_slices(P_list)\n",
        "negative_dataset_1 = tf.data.Dataset.from_tensor_slices(N_list)\n"
      ],
      "id": "e2301d6a"
    },
    {
      "cell_type": "code",
      "execution_count": null,
      "metadata": {
        "colab": {
          "base_uri": "https://localhost:8080/"
        },
        "id": "l1gACznPtnPG",
        "outputId": "c9f73ea6-115d-460b-94ec-fd8db645f866"
      },
      "outputs": [
        {
          "output_type": "execute_result",
          "data": {
            "text/plain": [
              "<TensorSliceDataset element_spec=TensorSpec(shape=(), dtype=tf.string, name=None)>"
            ]
          },
          "metadata": {},
          "execution_count": 17
        }
      ],
      "source": [
        "negative_dataset"
      ],
      "id": "l1gACznPtnPG"
    },
    {
      "cell_type": "code",
      "execution_count": null,
      "metadata": {
        "id": "856791e5"
      },
      "outputs": [],
      "source": [
        "assert (iio.imread(A_list[0])).shape == (iio.imread(P_list[0])).shape\n",
        "assert (iio.imread(A_list[0])).shape == (iio.imread(N_list[0])).shape\n",
        "assert len(A_list) == len(P_list)\n",
        "assert len(A_list) == len(N_list)\n"
      ],
      "id": "856791e5"
    },
    {
      "cell_type": "code",
      "execution_count": null,
      "metadata": {
        "colab": {
          "base_uri": "https://localhost:8080/"
        },
        "id": "442cc9a3",
        "outputId": "bcaa21b6-212c-4b04-d770-d7518b0d9781"
      },
      "outputs": [
        {
          "output_type": "execute_result",
          "data": {
            "text/plain": [
              "(256, 256)"
            ]
          },
          "metadata": {},
          "execution_count": 19
        }
      ],
      "source": [
        "#shape of the images and sketches input for the siamese network\n",
        "initial_shape = (iio.imread(N_list[0])).shape[0:2]\n",
        "initial_shape"
      ],
      "id": "442cc9a3"
    },
    {
      "cell_type": "code",
      "execution_count": null,
      "metadata": {
        "id": "x3sH8acsBw4R"
      },
      "outputs": [],
      "source": [
        "TARGET_SHAPE = (224,224)"
      ],
      "id": "x3sH8acsBw4R"
    },
    {
      "cell_type": "code",
      "execution_count": null,
      "metadata": {
        "colab": {
          "base_uri": "https://localhost:8080/"
        },
        "id": "639c435a",
        "outputId": "96247fbf-e829-4739-f416-e8bec34aacd4"
      },
      "outputs": [
        {
          "output_type": "execute_result",
          "data": {
            "text/plain": [
              "125"
            ]
          },
          "metadata": {},
          "execution_count": 21
        }
      ],
      "source": [
        "len(cat_list_sketchy)"
      ],
      "id": "639c435a"
    },
    {
      "cell_type": "code",
      "execution_count": null,
      "metadata": {
        "id": "fd1d7730"
      },
      "outputs": [],
      "source": [
        "## PREPROCESSING FUNCTIONS (different functions for image and sketch)\n",
        "\n",
        "def preprocess_image(filename):\n",
        "    \"\"\"\n",
        "    Load the specified file as a JPEG image, preprocess it and\n",
        "    resize it to the target shape.\n",
        "    \"\"\"\n",
        "\n",
        "    image_string = tf.io.read_file(filename)\n",
        "    image = tf.image.decode_jpeg(image_string, channels=3)\n",
        "    # image = tf.image.convert_image_dtype(image, tf.float32)\n",
        "    image = tf.image.resize(image, TARGET_SHAPE)\n",
        "\n",
        "    image = preprocess_input(image)\n",
        "\n",
        "    return image\n",
        "\n",
        "def preprocess_sketch(filename):\n",
        "    \"\"\"\n",
        "    Load the specified file as a JPEG image, preprocess it and\n",
        "    resize it to the target shape.\n",
        "    \"\"\"\n",
        "\n",
        "    image_string = tf.io.read_file(filename)\n",
        "    image = tf.io.decode_png(image_string, channels=3)\n",
        "    # image = tf.image.convert_image_dtype(image, tf.float32)\n",
        "    image = tf.image.resize(image, TARGET_SHAPE)\n",
        "\n",
        "    image = preprocess_input(image)\n",
        "\n",
        "    return image\n",
        "\n",
        "def preprocess_triplets(anchor, positive, negative):\n",
        "    \"\"\"\n",
        "    Given the filenames corresponding to the three images, load and\n",
        "    preprocess them.\n",
        "    \"\"\"\n",
        "\n",
        "    return (\n",
        "        preprocess_sketch(anchor),\n",
        "        preprocess_image(positive),\n",
        "        preprocess_image(negative),\n",
        "    )\n"
      ],
      "id": "fd1d7730"
    },
    {
      "cell_type": "code",
      "execution_count": null,
      "metadata": {
        "id": "61755a81"
      },
      "outputs": [],
      "source": [
        "##organize in tuple and shuffle\n",
        "\n",
        "anchor_dataset = anchor_dataset_1.map(preprocess_sketch)\n",
        "positive_dataset = positive_dataset_1.map(preprocess_image)\n",
        "negative_dataset = negative_dataset_1.map(preprocess_image)\n",
        "\n",
        "\n",
        "dataset = tf.data.Dataset.zip((anchor_dataset, positive_dataset, negative_dataset))\n",
        "dataset = dataset.shuffle(buffer_size=1024)"
      ],
      "id": "61755a81"
    },
    {
      "cell_type": "code",
      "execution_count": null,
      "metadata": {
        "id": "7564681e"
      },
      "outputs": [],
      "source": [
        "# Let's now split our dataset in train and validation.\n",
        "train_dataset = dataset.take(round(len(A_list) * 0.8))\n",
        "val_dataset = dataset.skip(round(len(A_list) * 0.8))\n",
        "\n",
        "train_dataset = train_dataset.batch(BATCH_SIZE_TRAINING, drop_remainder=False)\n",
        "train_dataset = train_dataset.prefetch(8)\n",
        "\n",
        "val_dataset = val_dataset.batch(BATCH_SIZE_TESTING, drop_remainder=False)\n",
        "val_dataset = val_dataset.prefetch(8)"
      ],
      "id": "7564681e"
    },
    {
      "cell_type": "code",
      "execution_count": null,
      "metadata": {
        "id": "f8a741aa",
        "colab": {
          "base_uri": "https://localhost:8080/",
          "height": 186
        },
        "outputId": "6c24c748-584b-44de-a402-9b2701c2f8bd"
      },
      "outputs": [
        {
          "output_type": "stream",
          "name": "stderr",
          "text": [
            "WARNING:matplotlib.image:Clipping input data to the valid range for imshow with RGB data ([0..1] for floats or [0..255] for integers).\n",
            "WARNING:matplotlib.image:Clipping input data to the valid range for imshow with RGB data ([0..1] for floats or [0..255] for integers).\n"
          ]
        },
        {
          "output_type": "display_data",
          "data": {
            "text/plain": [
              "<Figure size 432x288 with 3 Axes>"
            ],
            "image/png": "[encoded data removed]"
          },
          "metadata": {
            "needs_background": "light"
          }
        }
      ],
      "source": [
        "# checking a (sketch, matching image, not matching image, ) tuple\n",
        "fig, axs = plt.subplots(1,3)\n",
        "\n",
        "counter = 1\n",
        "i=0\n",
        "for element in dataset:\n",
        "\n",
        "    i += 1\n",
        "    if i == counter :\n",
        "      plt.imshow(element[0])\n",
        "\n",
        "      axs[0].imshow(element[0])\n",
        "      axs[1].imshow(element[1])\n",
        "      axs[2].imshow(element[2])\n",
        "\n",
        "      break\n"
      ],
      "id": "f8a741aa"
    },
    {
      "cell_type": "code",
      "source": [
        "element[0].shape"
      ],
      "metadata": {
        "colab": {
          "base_uri": "https://localhost:8080/"
        },
        "id": "EaYecvbD6uQs",
        "outputId": "5d3f784a-5aae-435f-c759-4aff10a769eb"
      },
      "id": "EaYecvbD6uQs",
      "execution_count": null,
      "outputs": [
        {
          "output_type": "execute_result",
          "data": {
            "text/plain": [
              "TensorShape([224, 224, 3])"
            ]
          },
          "metadata": {},
          "execution_count": 51
        }
      ]
    },
    {
      "cell_type": "code",
      "source": [
        "plt.imshow(np.ones([3,3,3],dtype=int)*255)"
      ],
      "metadata": {
        "colab": {
          "base_uri": "https://localhost:8080/",
          "height": 287
        },
        "id": "SM7_7tHo6uNt",
        "outputId": "b0fb9707-e99a-4293-9ab0-35476ca7a914"
      },
      "id": "SM7_7tHo6uNt",
      "execution_count": null,
      "outputs": [
        {
          "output_type": "execute_result",
          "data": {
            "text/plain": [
              "<matplotlib.image.AxesImage at 0x7f89c26d6490>"
            ]
          },
          "metadata": {},
          "execution_count": 70
        },
        {
          "output_type": "display_data",
          "data": {
            "text/plain": [
              "<Figure size 432x288 with 1 Axes>"
            ],
            "image/png": "[encoded data removed]"
          },
          "metadata": {
            "needs_background": "light"
          }
        }
      ]
    },
    {
      "cell_type": "code",
      "source": [],
      "metadata": {
        "id": "0s-9HL7I6uKi"
      },
      "id": "0s-9HL7I6uKi",
      "execution_count": null,
      "outputs": []
    },
    {
      "cell_type": "code",
      "source": [],
      "metadata": {
        "id": "CW_jKLsq6uA1"
      },
      "id": "CW_jKLsq6uA1",
      "execution_count": null,
      "outputs": []
    },
    {
      "cell_type": "markdown",
      "metadata": {
        "id": "251dddfa"
      },
      "source": [
        "## embedding generator models"
      ],
      "id": "251dddfa"
    },
    {
      "cell_type": "markdown",
      "metadata": {
        "id": "NlUavj5U74c4"
      },
      "source": [
        "### sketchs model"
      ],
      "id": "NlUavj5U74c4"
    },
    {
      "cell_type": "code",
      "execution_count": null,
      "metadata": {
        "id": "sCcqQk3j70W3"
      },
      "outputs": [],
      "source": [
        "sketch_model = load_model('ResNet_sketch_full_sketchy_baseline_data_aug.h5')"
      ],
      "id": "sCcqQk3j70W3"
    },
    {
      "cell_type": "code",
      "execution_count": null,
      "metadata": {
        "id": "wmkNu4iGWgvB"
      },
      "outputs": [],
      "source": [
        "sketch_model_sketchy = Sequential()\n",
        "\n",
        "for layer in sketch_model.layers[:-1]:\n",
        "  layer.trainable = False\n",
        "  sketch_model_sketchy.add(layer)  \n",
        "\n"
      ],
      "id": "wmkNu4iGWgvB"
    },
    {
      "cell_type": "code",
      "execution_count": null,
      "metadata": {
        "id": "aiR3z9CZUadr"
      },
      "outputs": [],
      "source": [
        "sketch_embedding = Sequential([\n",
        "      layers.InputLayer(input_shape=TARGET_SHAPE + (3,)),\n",
        "      sketch_model_sketchy,\n",
        "      layers.Flatten(),\n",
        "      layers.Dense(1024, activation=\"relu\"), \n",
        "      layers.BatchNormalization(),\n",
        "      layers.Dense(32*2)\n",
        "      ])"
      ],
      "id": "aiR3z9CZUadr"
    },
    {
      "cell_type": "code",
      "execution_count": null,
      "metadata": {
        "colab": {
          "base_uri": "https://localhost:8080/"
        },
        "id": "NXXWvPe8dIN4",
        "outputId": "ff08bbcb-7328-49ac-bacd-1798fd0ee364"
      },
      "outputs": [
        {
          "name": "stdout",
          "output_type": "stream",
          "text": [
            "Model: \"sequential_1\"\n",
            "_________________________________________________________________\n",
            " Layer (type)                Output Shape              Param #   \n",
            "=================================================================\n",
            " sequential (Sequential)     (None, 2048)              23587712  \n",
            "                                                                 \n",
            " flatten (Flatten)           (None, 2048)              0         \n",
            "                                                                 \n",
            " dense (Dense)               (None, 1024)              2098176   \n",
            "                                                                 \n",
            " batch_normalization (BatchN  (None, 1024)             4096      \n",
            " ormalization)                                                   \n",
            "                                                                 \n",
            " dense_1 (Dense)             (None, 64)                65600     \n",
            "                                                                 \n",
            "=================================================================\n",
            "Total params: 25,755,584\n",
            "Trainable params: 2,165,824\n",
            "Non-trainable params: 23,589,760\n",
            "_________________________________________________________________\n"
          ]
        }
      ],
      "source": [
        "sketch_embedding.summary()"
      ],
      "id": "NXXWvPe8dIN4"
    },
    {
      "cell_type": "markdown",
      "metadata": {
        "id": "YyrTw-jK8dSv"
      },
      "source": [
        "### photos model"
      ],
      "id": "YyrTw-jK8dSv"
    },
    {
      "cell_type": "code",
      "execution_count": null,
      "metadata": {
        "colab": {
          "base_uri": "https://localhost:8080/"
        },
        "id": "RdyxhI8477sM",
        "outputId": "ed939d0b-c2c6-4cb6-b1c5-509035835d69"
      },
      "outputs": [
        {
          "name": "stderr",
          "output_type": "stream",
          "text": [
            "WARNING:tensorflow:Error in loading the saved optimizer state. As a result, your model is starting with a freshly initialized optimizer.\n"
          ]
        }
      ],
      "source": [
        "photo_model = load_model('ResNet_photos_1_extra_layer.h5')"
      ],
      "id": "RdyxhI8477sM"
    },
    {
      "cell_type": "code",
      "execution_count": null,
      "metadata": {
        "id": "ir7nOT-na5ay"
      },
      "outputs": [],
      "source": [
        "photo_model_sketchy = Sequential()\n",
        "\n",
        "for layer in photo_model.layers[:-1]:\n",
        "  layer.trainable = False\n",
        "  photo_model_sketchy.add(layer)   \n",
        "\n",
        "# photo_model_sketchy.add(Dense(NUM_CLASSES, activation='softmax'))   # here to adjust number of categories (not needed after we have a sketch model trained on sketchy)"
      ],
      "id": "ir7nOT-na5ay"
    },
    {
      "cell_type": "code",
      "execution_count": null,
      "metadata": {
        "id": "7IvX2IXZ77Mx"
      },
      "outputs": [],
      "source": [
        "photo_embedding = Sequential([\n",
        "      # layers.Resizing(IMAGE_RESIZE, IMAGE_RESIZE),\n",
        "      layers.InputLayer(input_shape=TARGET_SHAPE + (3,)),\n",
        "      photo_model_sketchy,\n",
        "      layers.Flatten(),\n",
        "      # layers.Dense(512, activation=\"relu\"),\n",
        "      # layers.BatchNormalization(),\n",
        "      layers.Dense(1024, activation=\"relu\"),\n",
        "      layers.BatchNormalization(),\n",
        "      layers.Dense(32*2)\n",
        "      ])"
      ],
      "id": "7IvX2IXZ77Mx"
    },
    {
      "cell_type": "code",
      "execution_count": null,
      "metadata": {
        "colab": {
          "base_uri": "https://localhost:8080/"
        },
        "id": "rwgxAuADc2oH",
        "outputId": "32ebd9b6-57ea-4753-914d-6479d7d80a71"
      },
      "outputs": [
        {
          "name": "stdout",
          "output_type": "stream",
          "text": [
            "Model: \"sequential_9\"\n",
            "_________________________________________________________________\n",
            " Layer (type)                Output Shape              Param #   \n",
            "=================================================================\n",
            " sequential_8 (Sequential)   (None, 128)               23849984  \n",
            "                                                                 \n",
            " flatten_4 (Flatten)         (None, 128)               0         \n",
            "                                                                 \n",
            " dense_8 (Dense)             (None, 1024)              132096    \n",
            "                                                                 \n",
            " batch_normalization_4 (Batc  (None, 1024)             4096      \n",
            " hNormalization)                                                 \n",
            "                                                                 \n",
            " dense_9 (Dense)             (None, 64)                65600     \n",
            "                                                                 \n",
            "=================================================================\n",
            "Total params: 24,051,776\n",
            "Trainable params: 199,744\n",
            "Non-trainable params: 23,852,032\n",
            "_________________________________________________________________\n"
          ]
        }
      ],
      "source": [
        "photo_embedding.summary()"
      ],
      "id": "rwgxAuADc2oH"
    },
    {
      "cell_type": "code",
      "execution_count": null,
      "metadata": {
        "id": "9417a7f9"
      },
      "outputs": [],
      "source": [
        "class DistanceLayer(layers.Layer):\n",
        "    \"\"\"\n",
        "    This layer is responsible for computing the distance between the anchor\n",
        "    embedding and the positive embedding, and the anchor embedding and the\n",
        "    negative embedding.\n",
        "    \"\"\"\n",
        "\n",
        "    def __init__(self, **kwargs):\n",
        "        super().__init__(**kwargs)\n",
        "\n",
        "    def call(self, anchor, positive, negative):\n",
        "        ap_distance = tf.reduce_sum(tf.square(anchor - positive))#, -1)\n",
        "        an_distance = tf.reduce_sum(tf.square(anchor - negative))#, -1)\n",
        "        # print(tf.print(ap_distance))\n",
        "\n",
        "        return (ap_distance, an_distance)\n",
        "\n"
      ],
      "id": "9417a7f9"
    },
    {
      "cell_type": "code",
      "execution_count": null,
      "metadata": {
        "id": "b55656fd"
      },
      "outputs": [],
      "source": [
        "anchor_input = layers.Input(name=\"anchor\", shape=TARGET_SHAPE + (3,))\n",
        "positive_input = layers.Input(name=\"positive\", shape=TARGET_SHAPE + (3,))\n",
        "negative_input = layers.Input(name=\"negative\", shape=TARGET_SHAPE + (3,))\n",
        "\n",
        "distances = DistanceLayer()(\n",
        "    sketch_embedding((anchor_input)),\n",
        "    photo_embedding((positive_input)),\n",
        "    photo_embedding((negative_input)),\n",
        ")\n",
        "\n",
        "\n",
        "siamese_network = Model(\n",
        "    inputs=[anchor_input, positive_input, negative_input], outputs=distances\n",
        ")"
      ],
      "id": "b55656fd"
    },
    {
      "cell_type": "code",
      "execution_count": null,
      "metadata": {
        "id": "38f3e650"
      },
      "outputs": [],
      "source": [
        "class SiameseModel(Model):\n",
        "    \"\"\"The Siamese Network model with a custom training and testing loops.\n",
        "\n",
        "    Computes the triplet loss using the three embeddings produced by the\n",
        "    Siamese Network.\n",
        "\n",
        "    The triplet loss is defined as:\n",
        "       L(A, P, N) = c1*‖f(A) - f(P)‖² + c2*max(‖f(A) - f(P)‖² - ‖f(A) - f(N)‖² + margin, 0)\n",
        "    \"\"\"\n",
        "\n",
        "    def __init__(self, siamese_network, margin=0.5, c1=1, c2=1):\n",
        "        super(SiameseModel, self).__init__()\n",
        "        self.siamese_network = siamese_network\n",
        "        self.margin = margin\n",
        "        self.loss_tracker = metrics.Mean(name=\"loss\")\n",
        "        self.c1 = c1\n",
        "        self.c2 = c2\n",
        "\n",
        "    def call(self, inputs):\n",
        "        return self.siamese_network(inputs)\n",
        "\n",
        "    def train_step(self, data):\n",
        "        # GradientTape is a context manager that records every operation that\n",
        "        # you do inside. We are using it here to compute the loss so we can get\n",
        "        # the gradients and apply them using the optimizer specified in\n",
        "        # `compile()`.\n",
        "        with tf.GradientTape() as tape:\n",
        "            loss = self._compute_loss(data)\n",
        "\n",
        "        # Storing the gradients of the loss function with respect to the\n",
        "        # weights/parameters.\n",
        "        gradients = tape.gradient(loss, self.siamese_network.trainable_weights)\n",
        "\n",
        "        # Applying the gradients on the model using the specified optimizer\n",
        "        self.optimizer.apply_gradients(\n",
        "            zip(gradients, self.siamese_network.trainable_weights)\n",
        "        )\n",
        "\n",
        "        # Let's update and return the training loss metric.\n",
        "        self.loss_tracker.update_state(loss)\n",
        "        return {\"loss\": self.loss_tracker.result()}\n",
        "\n",
        "    def test_step(self, data):\n",
        "        loss = self._compute_loss(data)\n",
        "\n",
        "        # Let's update and return the loss metric.\n",
        "        self.loss_tracker.update_state(loss)\n",
        "        return {\"loss\": self.loss_tracker.result()}\n",
        "\n",
        "    def _compute_loss(self, data):\n",
        "        # The output of the network is a tuple containing the distances\n",
        "        # between the anchor and the positive example, and the anchor and\n",
        "        # the negative example.\n",
        "        ap_distance, an_distance = self.siamese_network(data)\n",
        "\n",
        "        # Computing the Triplet Loss by subtracting both distances and\n",
        "        # making sure we don't get a negative value.\n",
        "\n",
        "        loss = ap_distance - an_distance\n",
        "\n",
        "        loss = self.c1*ap_distance + self.c2*tf.maximum((loss + self.margin), 0.0)\n",
        "        return loss\n",
        "\n",
        "    @property\n",
        "    def metrics(self):\n",
        "        # We need to list our metrics here so the `reset_states()` can be\n",
        "        # called automatically.\n",
        "        return [self.loss_tracker]\n"
      ],
      "id": "38f3e650"
    },
    {
      "cell_type": "code",
      "execution_count": null,
      "metadata": {
        "colab": {
          "base_uri": "https://localhost:8080/"
        },
        "id": "c408cf75",
        "outputId": "e8eed38c-48c8-40c4-df7d-a9d7066c99b5"
      },
      "outputs": [
        {
          "name": "stdout",
          "output_type": "stream",
          "text": [
            "Model: \"model_1\"\n",
            "__________________________________________________________________________________________________\n",
            " Layer (type)                   Output Shape         Param #     Connected to                     \n",
            "==================================================================================================\n",
            " anchor (InputLayer)            [(None, 224, 224, 3  0           []                               \n",
            "                                )]                                                                \n",
            "                                                                                                  \n",
            " positive (InputLayer)          [(None, 224, 224, 3  0           []                               \n",
            "                                )]                                                                \n",
            "                                                                                                  \n",
            " negative (InputLayer)          [(None, 224, 224, 3  0           []                               \n",
            "                                )]                                                                \n",
            "                                                                                                  \n",
            " tf.__operators__.getitem_3 (Sl  (None, 224, 224, 3)  0          ['anchor[0][0]']                 \n",
            " icingOpLambda)                                                                                   \n",
            "                                                                                                  \n",
            " tf.__operators__.getitem_4 (Sl  (None, 224, 224, 3)  0          ['positive[0][0]']               \n",
            " icingOpLambda)                                                                                   \n",
            "                                                                                                  \n",
            " tf.__operators__.getitem_5 (Sl  (None, 224, 224, 3)  0          ['negative[0][0]']               \n",
            " icingOpLambda)                                                                                   \n",
            "                                                                                                  \n",
            " tf.nn.bias_add_3 (TFOpLambda)  (None, 224, 224, 3)  0           ['tf.__operators__.getitem_3[0][0\n",
            "                                                                 ]']                              \n",
            "                                                                                                  \n",
            " tf.nn.bias_add_4 (TFOpLambda)  (None, 224, 224, 3)  0           ['tf.__operators__.getitem_4[0][0\n",
            "                                                                 ]']                              \n",
            "                                                                                                  \n",
            " tf.nn.bias_add_5 (TFOpLambda)  (None, 224, 224, 3)  0           ['tf.__operators__.getitem_5[0][0\n",
            "                                                                 ]']                              \n",
            "                                                                                                  \n",
            " sequential_7 (Sequential)      (None, 64)           25755584    ['tf.nn.bias_add_3[0][0]']       \n",
            "                                                                                                  \n",
            " sequential_9 (Sequential)      (None, 64)           24051776    ['tf.nn.bias_add_4[0][0]',       \n",
            "                                                                  'tf.nn.bias_add_5[0][0]']       \n",
            "                                                                                                  \n",
            " distance_layer_1 (DistanceLaye  ((),                0           ['sequential_7[0][0]',           \n",
            " r)                              ())                              'sequential_9[0][0]',           \n",
            "                                                                  'sequential_9[1][0]']           \n",
            "                                                                                                  \n",
            "==================================================================================================\n",
            "Total params: 49,807,360\n",
            "Trainable params: 2,365,568\n",
            "Non-trainable params: 47,441,792\n",
            "__________________________________________________________________________________________________\n"
          ]
        }
      ],
      "source": [
        "siamese_network.summary()"
      ],
      "id": "c408cf75"
    },
    {
      "cell_type": "code",
      "execution_count": null,
      "metadata": {
        "id": "jrnmP8pLXwFG"
      },
      "outputs": [],
      "source": [],
      "id": "jrnmP8pLXwFG"
    },
    {
      "cell_type": "code",
      "execution_count": null,
      "metadata": {
        "id": "ukIELS9kXSSb"
      },
      "outputs": [],
      "source": [
        "\n",
        "IMAGE_FULL_MODEL = \"triplet_full_baseline_68_batch_1000_steps_weights_no_class_layer_c1_1\"\n",
        "\n",
        "model_checkpoint_full = callbacks.ModelCheckpoint(\"{}.tf\".format(IMAGE_FULL_MODEL), monitor=\"loss\", verbose=0, save_best_only=True,save_weights_only=True)\n",
        "\n",
        "LR_reducer_full = callbacks.ReduceLROnPlateau(monitor=\"loss\", factor = WEIGHT_DECAY, patience=10, verbose=1, min_lr=0)\n",
        "LR_exp_reducer_full = ExponentialDecay(initial_learning_rate = LEARNING_RATE, decay_steps = 1000, decay_rate = WEIGHT_DECAY,)\n",
        "\n",
        "early_stopper_full = callbacks.EarlyStopping(monitor='loss', patience=EARLY_STOP_PATIENCE, verbose=0, restore_best_weights=True)\n",
        "\n",
        "full_model_callbacks = [model_checkpoint_full, early_stopper_full, LR_reducer_full]\n",
        "# full_model_callbacks = [early_stopper_full, LR_reducer_full]"
      ],
      "id": "ukIELS9kXSSb"
    },
    {
      "cell_type": "code",
      "execution_count": null,
      "metadata": {
        "id": "SUjUBfOwTj1j"
      },
      "outputs": [],
      "source": [
        "siamese_model = SiameseModel(siamese_network, margin=MARGIN)\n",
        "# compile_model(siamese_model)\n",
        "siamese_model.compile(optimizer=optimizers.Adam(learning_rate=LEARNING_RATE))"
      ],
      "id": "SUjUBfOwTj1j"
    },
    {
      "cell_type": "code",
      "execution_count": null,
      "metadata": {
        "colab": {
          "base_uri": "https://localhost:8080/"
        },
        "id": "VHnJCYoRvP7m",
        "outputId": "c6cd9b6e-b680-4c48-e039-6a729f6c5acd"
      },
      "outputs": [
        {
          "data": {
            "text/plain": [
              "200.0"
            ]
          },
          "execution_count": 83,
          "metadata": {},
          "output_type": "execute_result"
        }
      ],
      "source": [
        "# EARLY_STOP_PATIENCE must be < NUM_EPOCHS\n",
        "TOTAL_NUM_EPOCHS = 3000# 60000\n",
        "NUM_EPOCHS = 15  # 60000\n",
        "\n",
        "TOTAL_NUM_EPOCHS/NUM_EPOCHS"
      ],
      "id": "VHnJCYoRvP7m"
    },
    {
      "cell_type": "code",
      "source": [
        "for epoch_cycle in range(int(TOTAL_NUM_EPOCHS/NUM_EPOCHS)):\n",
        "\n",
        "  siamese_model.fit(train_dataset, \n",
        "                  epochs=NUM_EPOCHS, \n",
        "                  steps_per_epoch=STEPS_PER_EPOCH_TRAINING,\n",
        "                  batch_size =  BATCH_SIZE_TRAINING ,\n",
        "                  callbacks=full_model_callbacks,\n",
        "                  workers=8,\n",
        "                  verbose=1,\n",
        "                  use_multiprocessing=True)\n",
        "  \n",
        "  siamese_model.margin = 0.8*siamese_model.margin\n",
        "  siamese_model.c1 = siamese_model.margin\n",
        "\n",
        "  photo_embedding.save(f'photo_embedding_ep_cycle_{epoch_cycle}_{IMAGE_FULL_MODEL}.h5')\n",
        "  sketch_embedding.save(f'sketch_embedding_ep_cycle_{epoch_cycle}_{IMAGE_FULL_MODEL}.h5')"
      ],
      "metadata": {
        "id": "YhUjkhOZv9Ou"
      },
      "id": "YhUjkhOZv9Ou",
      "execution_count": null,
      "outputs": []
    },
    {
      "cell_type": "code",
      "execution_count": null,
      "metadata": {
        "id": "a31c6c6a"
      },
      "outputs": [],
      "source": [],
      "id": "a31c6c6a"
    },
    {
      "cell_type": "code",
      "execution_count": null,
      "metadata": {
        "id": "a65d9875"
      },
      "outputs": [],
      "source": [],
      "id": "a65d9875"
    },
    {
      "cell_type": "code",
      "execution_count": null,
      "metadata": {
        "id": "532a14cf"
      },
      "outputs": [],
      "source": [],
      "id": "532a14cf"
    },
    {
      "cell_type": "code",
      "execution_count": null,
      "metadata": {
        "id": "798cb665"
      },
      "outputs": [],
      "source": [],
      "id": "798cb665"
    }
  ],
  "metadata": {
    "accelerator": "GPU",
    "colab": {
      "machine_shape": "hm",
      "provenance": []
    },
    "gpuClass": "premium",
    "kernelspec": {
      "display_name": "Python 3 (ipykernel)",
      "language": "python",
      "name": "python3"
    },
    "language_info": {
      "codemirror_mode": {
        "name": "ipython",
        "version": 3
      },
      "file_extension": ".py",
      "mimetype": "text/x-python",
      "name": "python",
      "nbconvert_exporter": "python",
      "pygments_lexer": "ipython3",
      "version": "3.10.6"
    }
  },
  "nbformat": 4,
  "nbformat_minor": 5
}